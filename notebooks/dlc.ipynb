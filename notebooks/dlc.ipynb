{
 "cells": [
  {
   "cell_type": "code",
   "execution_count": null,
   "metadata": {},
   "outputs": [],
   "source": [
    "# Example Notebook for DeepLabCut(DLC) manual ingestion steps\n",
    "from workflow.pipeline.dlc import insert_new_dlc_model\n",
    "from workflow.pipeline import reference, train, model\n",
    "from pathlib import Path"
   ]
  },
  {
   "cell_type": "code",
   "execution_count": 2,
   "metadata": {},
   "outputs": [],
   "source": [
    "# Instruction for ingesting new models into the model.Model() table\n",
    "\n",
    "# Set project path to specify the location of the config.yaml file\n",
    "# This is the only required paramter\n",
    "example_project_path = \"/home/anaconda/inbox/dlc_projects/Testing2D-Kim-2022-01-04\"\n",
    "\n",
    "# None of the following need to be specified, all are optional parameters\n",
    "model_prefix = \"dlc_test_\"\n",
    "model_description = \"Test Model Ingestion for DLC\"\n",
    "paramset_idx = 1\n",
    "\n",
    "insert_new_dlc_model(project_path=example_project_path, \n",
    "                    model_prefix=model_prefix, \n",
    "                    paramset_idx=paramset_idx, \n",
    "                    model_description=model_description)\n",
    "        \n",
    "# Display model.Model() table to see insert\n",
    "model.Model()"
   ]
  },
  {
   "cell_type": "code",
   "execution_count": null,
   "metadata": {},
   "outputs": [],
   "source": [
    "# Manual step to insert Camera(s) into reference.Device()\n",
    "# This step is required for the model.VideoRecording table to be populated\n",
    "\n",
    "# For example \n",
    "device_id=0,\n",
    "device_name='camera1', \n",
    "device_description='dlc test camera'\n",
    "reference_dict = dict(device_id=device_id,\n",
    "                    device_name=device_name, \n",
    "                    device_description=device_description)\n",
    "reference.Device.insert1(reference_dict)\n",
    "reference.Device()"
   ]
  },
  {
   "cell_type": "code",
   "execution_count": null,
   "metadata": {},
   "outputs": [],
   "source": [
    "# Manual Step to insert entry into Pose Estimation Task\n",
    "\n",
    "# Choose a video recording by manually specifying recording\n",
    "# pe_key = (model.VideoRecording & {'recording_id': '0'}).fetch1('KEY')\n",
    "# Or another method\n",
    "vr_key = dict(subject='Subject1',\n",
    "            session_id=1,\n",
    "            recording_id=0)\n",
    "pe_key_1 = (model.VideoRecording & vr_key).fetch1('KEY')\n",
    "# Specify Model to be used for Pose Estimation Inference\n",
    "model_key = (model.Model & 'model_name LIKE \"%Testing2D-Kim%\"').fetch1('KEY')\n",
    "\n",
    "pe_key_1.update(model_key)\n",
    "# pe_key.update(model_key)\n",
    "\n",
    "task_mode = \"trigger\" # Can be set to trigger (to trigger inference) \n",
    "                      # or load (to load external results into database)\n",
    "\n",
    "#  Params Optional(default None). Parameters passed to DLC's analyze_videos:\n",
    "#                 videotype, gputouse, save_as_csv, batchsize, cropping, TFGPUinference,\n",
    "#                 dynamic, robust_nframes, allow_growth, use_shelve\n",
    "params={'save_as_csv':True}\n",
    "\n",
    "# Use built in infer_output_dir function to generate output directory location\n",
    "# Or can manually specify this  \n",
    "output_dir = model.PoseEstimationTask.infer_output_dir(pe_key_1)\n",
    "skip_duplicates = False # Manually set whether duplicate entries should be skipped or retried\n",
    "\n",
    "model.PoseEstimationTask.insert_estimation_task(\n",
    "        key=pe_key_1,\n",
    "        task_mode=task_mode,\n",
    "        params=params,\n",
    "        relative=True,\n",
    "        mkdir=True,\n",
    "        skip_duplicates=False,\n",
    "    )\n",
    "\n",
    "model.PoseEstimationTask.insert1(\n",
    "            {\n",
    "                **pe_key_1,\n",
    "                \"task_mode\": task_mode,\n",
    "                \"pose_estimation_params\": params,\n",
    "                \"pose_estimation_output_dir\": output_dir,\n",
    "            },\n",
    "            skip_duplicates=skip_duplicates,\n",
    "        )\n",
    "\n"
   ]
  },
  {
   "cell_type": "code",
   "execution_count": null,
   "metadata": {},
   "outputs": [],
   "source": [
    "# Manually insert Training Video Set ID (increment for each training set)\n",
    "train.VideoSet.insert1({'video_set_id': 0})\n",
    "\n",
    "# Manually set project path\n",
    "relative_project_path = \"dlc_projects/Testing2D-Kim-2022-01-04/videos\"\n",
    "\n",
    "# Training videos should be stored within the project directory in subfolders for videos and labeled data\n",
    "full_videos_project_path = Path(model.get_dlc_root_data_dir()[0]) / 'dlc_projects' / 'Testing2D-Kim-2022-01-04' / 'videos'\n",
    "full_labeled_project_path = Path(model.get_dlc_root_data_dir()[0]) / 'dlc_projects' / 'Testing2D-Kim-2022-01-04' / 'labeled-data'\n",
    "\n",
    "# Video and labeled data files are auto parsed and paths are stored\n",
    "example_video_files = [tfile for tfile in full_videos_project_path.glob('*') if tfile.is_file()]\n",
    "example_labeled_csv_files = [lfile for lfile in full_labeled_project_path.rglob('*.csv') if lfile.is_file()]\n",
    "example_labeled_png_files = [pfile for pfile in full_labeled_project_path.rglob('*.png') if pfile.is_file()]\n",
    "example_labeled_h5_files = [hfile for hfile in full_labeled_project_path.rglob('*.h5') if hfile.is_file()]\n",
    "example_training_files = example_video_files + example_labeled_csv_files + example_labeled_png_files + example_labeled_h5_files\n",
    "project_folder = relative_project_path\n",
    "# Insert all files associated with that training set\n",
    "for idx, filename in enumerate(example_training_files):\n",
    "    train.VideoSet.File.insert1({'video_set_id': 0,\n",
    "                                 'file_id': idx,\n",
    "                                 'file_path': (str(project_folder) + str(filename))})\n",
    "\n",
    "train.VideoSet.File()\n"
   ]
  },
  {
   "cell_type": "code",
   "execution_count": null,
   "metadata": {},
   "outputs": [],
   "source": [
    "# Manually insert Training Parameter Set\n",
    "import yaml\n",
    "\n",
    "paramset_idx = 0; \n",
    "paramset_desc='dlc project description: Testing2D-Kim'\n",
    "example_project_path = \"/home/anaconda/inbox/dlc_projects/Testing2D-Kim-2022-01-04\"\n",
    "config_path = example_project_path / 'config.yaml'\n",
    "\n",
    "with open(config_path, 'rb') as y:\n",
    "    config_params = yaml.safe_load(y)\n",
    "example_training_params = {'shuffle': '1',\n",
    "                   'trainingsetindex': '0',\n",
    "                   'maxiters': '5',\n",
    "                   'scorer_legacy': 'False',\n",
    "                   'maxiters': '5', \n",
    "                   'multianimalproject':'False'}\n",
    "config_params.update(example_training_params)\n",
    "train.TrainingParamSet.insert_new_params(paramset_idx=paramset_idx,\n",
    "                                         paramset_desc=paramset_desc,\n",
    "                                         params=config_params)\n",
    "\n",
    "train.TrainingParamSet()\n"
   ]
  }
 ],
 "metadata": {
  "kernelspec": {
   "display_name": "Python 3.8.9 64-bit",
   "language": "python",
   "name": "python3"
  },
  "language_info": {
   "codemirror_mode": {
    "name": "ipython",
    "version": 3
   },
   "file_extension": ".py",
   "mimetype": "text/x-python",
   "name": "python",
   "nbconvert_exporter": "python",
   "pygments_lexer": "ipython3",
   "version": "3.8.9"
  },
  "orig_nbformat": 4,
  "vscode": {
   "interpreter": {
    "hash": "31f2aee4e71d21fbe5cf8b01ff0e069b9275f58929596ceb00d14d90e3e16cd6"
   }
  }
 },
 "nbformat": 4,
 "nbformat_minor": 2
}
