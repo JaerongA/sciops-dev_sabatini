{
 "cells": [
  {
   "cell_type": "code",
   "execution_count": 1,
   "metadata": {},
   "outputs": [],
   "source": [
    "import os\n",
    "if os.path.basename(os.getcwd()) == \"notebooks\": os.chdir(\"..\")\n",
    "import datajoint as dj\n",
    "dj.config.load('dj_local_conf.json')\n",
    "dj.conn()\n",
    "\n",
    "from workflow.pipeline import model, train, reference, subject, session\n",
    "from workflow.pipeline.dlc import insert_new_dlc_model, ingest_behavior_videos\n",
    "from pathlib import Path\n",
    "import datetime"
   ]
  },
  {
   "cell_type": "code",
   "execution_count": null,
   "metadata": {},
   "outputs": [],
   "source": [
    "# Manual step to insert new models into the model.Model() table\n",
    "# Set project path to specify the location of the config.yaml file\n",
    "# When adding new project data, store in dlc_projects folder with new project folder name\n",
    "# This is the only required paramter\n",
    "example_project_path = \"/home/anaconda/inbox/dlc_projects/Testing2D_Kim-2022-01-04\"\n",
    "\n",
    "# None of the following need to be specified, all are optional parameters\n",
    "model_prefix = \"\"\n",
    "model_description = \"Test Model Ingestion for DLC\"\n",
    "paramset_idx = 0\n",
    "\n",
    "insert_new_dlc_model(project_path=example_project_path, \n",
    "                    model_prefix=model_prefix, \n",
    "                    paramset_idx=paramset_idx, \n",
    "                    model_description=model_description)\n",
    "        \n",
    "# Display model.Model() table to see insert\n",
    "model.Model()"
   ]
  },
  {
   "cell_type": "markdown",
   "metadata": {},
   "source": []
  },
  {
   "cell_type": "code",
   "execution_count": null,
   "metadata": {},
   "outputs": [],
   "source": [
    "# Manual step to insert Camera(s) into reference.Device() table\n",
    "# This step is required for the model.VideoRecording table to be populated\n",
    "device_id = 0\n",
    "device_name = 'camera1' \n",
    "device_description = 'dlc test camera'\n",
    "reference_dict = dict(\n",
    "    device_id=device_id,\n",
    "    device_name=device_name, \n",
    "    device_description=device_description\n",
    "    )\n",
    "reference.Device.insert1(reference_dict)\n",
    "reference.Device()"
   ]
  },
  {
   "cell_type": "markdown",
   "metadata": {},
   "source": []
  },
  {
   "cell_type": "code",
   "execution_count": null,
   "metadata": {},
   "outputs": [],
   "source": [
    "# Manual step to insert behavior videos into model.VideoRecording() table\n",
    "# and into its respective part table model.VideoRecording.File()\n",
    "# Specify subject and session_id of the behavior videos\n",
    "\n",
    "# Make sure specified subject exists within the subject.Subject() table  \n",
    "# Skip this step if subject has been inserted into subject.Subject already\n",
    "subj_key = dict(\n",
    "    subject='test_sub',\n",
    "    subject_nickname=\"\",\n",
    "    sex='F',\n",
    "    subject_birth_date=datetime.date(2022, 1, 1),\n",
    "    subject_description= \"Test subject for DLC\"\n",
    ")\n",
    "subject.Subject.insert1(subj_key)\n",
    "\n",
    "# Make sure specified session exists in session.Session() and session.SessionDirectory() tables\n",
    "# Skip these steps if session has been inserted into session tables already\n",
    "session_key = dict(subject='test_sub', session_id=1,\n",
    "                   session_datetime='2023-01-07 12:00:00')\n",
    "\n",
    "session.Session.insert1(session_key)\n",
    "sdir_key = dict(subject=session_key['subject'], \n",
    "                session_id=session_key['session_id'], \n",
    "                session_dir='test_sub/session1')\n",
    "session.SessionDirectory.insert1(sdir_key)\n",
    "\n",
    "behavior_key = dict(\n",
    "    subject='test_sub',\n",
    "    session_id=1\n",
    "    )   \n",
    "# Specfiy the device that was used to record the behavior videos\n",
    "device_id = 0\n",
    "\n",
    "# Ingest behavior videos for specified behavior key and device_id \n",
    "# recording_id is assumed to be 0 (1 recording per session)\n",
    "ingest_behavior_videos(\n",
    "    behavior_key, \n",
    "    device_id,\n",
    "    recording_id=0\n",
    ")"
   ]
  },
  {
   "cell_type": "code",
   "execution_count": null,
   "metadata": {},
   "outputs": [],
   "source": [
    "# Populate automated model.RecordingInfo table containing file metadata\n",
    "# This step can be run after model.VideoRecording() and model.VideoRecording.File() tables are populated\n",
    "model.RecordingInfo.populate()\n",
    "\n",
    "# Display recording info\n",
    "model.RecordingInfo()"
   ]
  },
  {
   "cell_type": "code",
   "execution_count": null,
   "metadata": {},
   "outputs": [],
   "source": [
    "# Manual Step to insert entry into Pose Estimation Task\n",
    "\n",
    "# Choose a video recording by manually specifying subject, sesison and recording \n",
    "# Or another method\n",
    "vr_key = dict(subject='test_sub',\n",
    "            session_id=1,\n",
    "            recording_id=0)\n",
    "pe_key_1 = (model.VideoRecording & vr_key).fetch1('KEY')\n",
    "# Specify Model to be used for Pose Estimation Inference\n",
    "model_key = (model.Model & 'model_name LIKE \"%Testing2D_Kim%\"').fetch1('KEY')\n",
    "\n",
    "pe_key_1.update(model_key)\n",
    "# pe_key.update(model_key)\n",
    "\n",
    "task_mode = \"trigger\" # Can be set to trigger (to trigger inference) \n",
    "                      # or load (to load external results into database)\n",
    "\n",
    "#  Params Optional(default None). Parameters passed to DLC's analyze_videos:\n",
    "#                 videotype, gputouse, save_as_csv, batchsize, cropping, TFGPUinference,\n",
    "#                 dynamic, robust_nframes, allow_growth, use_shelve\n",
    "params={'save_as_csv':True}\n",
    "\n",
    "# Use built in infer_output_dir function to generate output directory location\n",
    "# Or can manually specify this  \n",
    "output_dir = model.PoseEstimationTask.infer_output_dir(pe_key_1)\n",
    "skip_duplicates = False # Manually set whether duplicate entries should be skipped or retried\n",
    "model_name = model.Model.fetch1('model_name')\n",
    "model.PoseEstimationTask.insert_estimation_task(\n",
    "        video_recording_key=pe_key_1,\n",
    "        task_mode=task_mode,\n",
    "        analyze_videos_params=params,\n",
    "    )\n",
    "# Display PoseEstimationTask table\n",
    "model.PoseEstimationTask()"
   ]
  },
  {
   "cell_type": "code",
   "execution_count": null,
   "metadata": {},
   "outputs": [],
   "source": [
    "# Run Model Inference Step to populate model.PoseEstimation table\n",
    "model.PoseEstimation.populate()"
   ]
  }
 ],
 "metadata": {
  "kernelspec": {
   "display_name": "Python 3.9.13",
   "language": "python",
   "name": "python3"
  },
  "language_info": {
   "codemirror_mode": {
    "name": "ipython",
    "version": 3
   },
   "file_extension": ".py",
   "mimetype": "text/x-python",
   "name": "python",
   "nbconvert_exporter": "python",
   "pygments_lexer": "ipython3",
   "version": "3.9.13"
  },
  "orig_nbformat": 4,
  "vscode": {
   "interpreter": {
    "hash": "95ea953c6fdf9eb9a1ebca8923f86fced2bfe4b509d63b749269284d8a5afdcf"
   }
  }
 },
 "nbformat": 4,
 "nbformat_minor": 2
}
