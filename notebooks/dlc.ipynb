{
 "cells": [
  {
   "cell_type": "code",
   "execution_count": null,
   "metadata": {},
   "outputs": [],
   "source": [
    "# Example Notebook for DeepLabCut(DLC) manual ingestion steps\n",
    "from workflow.pipeline.dlc import insert_new_dlc_model\n",
    "from workflow.pipeline import reference"
   ]
  },
  {
   "cell_type": "code",
   "execution_count": null,
   "metadata": {},
   "outputs": [],
   "source": [
    "# Instruction for ingesting new models into the model.Model() table\n",
    "\n",
    "# Set Project Path to specify the location of the config.yaml file\n",
    "# This is the only required paramter\n",
    "example_project_path = \"/home/ubuntu/workflows/sciops-dev_sabatini/inbox/dlc_projects/Testing2D-Kim-2022-01-04\"\n",
    "\n",
    "# None of the following need to be specified, all are optional parameters\n",
    "model_prefix = \"dlc_test_\"\n",
    "model_description = \"Test Model Ingestion for DLC\"\n",
    "paramset_idx = 1\n",
    "\n",
    "insert_new_dlc_model(project_path=example_project_path, \n",
    "                    model_prefix=model_prefix, \n",
    "                    paramset_idx=paramset_idx, \n",
    "                    model_description=model_description)\n"
   ]
  },
  {
   "cell_type": "code",
   "execution_count": null,
   "metadata": {},
   "outputs": [],
   "source": [
    "# Manual step to insert Camera(s) into reference.Device()\n",
    "# This step is required for the model.VideoRecording table to be populated\n",
    "\n",
    "# For example \n",
    "device_id=0,\n",
    "device_name='camera1', \n",
    "device_description='dlc test camera'\n",
    "reference_dict = dict(device_id=device_id,\n",
    "                    device_name=device_name, \n",
    "                    device_description=device_description)\n",
    "reference.Device.insert1(reference_dict)"
   ]
  },
  {
   "cell_type": "code",
   "execution_count": null,
   "metadata": {},
   "outputs": [],
   "source": []
  }
 ],
 "metadata": {
  "kernelspec": {
   "display_name": "Python 3.8.9 64-bit",
   "language": "python",
   "name": "python3"
  },
  "language_info": {
   "name": "python",
   "version": "3.8.9"
  },
  "orig_nbformat": 4,
  "vscode": {
   "interpreter": {
    "hash": "31f2aee4e71d21fbe5cf8b01ff0e069b9275f58929596ceb00d14d90e3e16cd6"
   }
  }
 },
 "nbformat": 4,
 "nbformat_minor": 2
}
