{
 "cells": [
  {
   "cell_type": "code",
   "execution_count": null,
   "metadata": {},
   "outputs": [],
   "source": [
    "from workflow.pipeline.dlc import insert_new_dlc_model"
   ]
  },
  {
   "cell_type": "code",
   "execution_count": null,
   "metadata": {},
   "outputs": [],
   "source": [
    "# Example Notebook to show model.Model() ingestion\n",
    "# Instruction for ingesting new models\n",
    "# Project Path should specify the location of the config.yaml file\n",
    "example_project_path = \"/home/ubuntu/workflows/sciops-dev_sabatini/inbox/dlc_projects/Testing2D-Kim-2022-01-04\"\n",
    "\n",
    "# None of these need to be specified, all are optional parameters\n",
    "model_prefix = \"dlc_test_\"\n",
    "model_description = \"Test Model Ingestion for DLC\"\n",
    "paramset_idx = 1\n",
    "\n",
    "insert_new_dlc_model(project_path=example_project_path, model_prefix=model_prefix,paramset_idx=paramset_idx, model_description=model_description)\n"
   ]
  }
 ],
 "metadata": {
  "kernelspec": {
   "display_name": "Python 3.8.9 64-bit",
   "language": "python",
   "name": "python3"
  },
  "language_info": {
   "name": "python",
   "version": "3.8.9"
  },
  "orig_nbformat": 4,
  "vscode": {
   "interpreter": {
    "hash": "31f2aee4e71d21fbe5cf8b01ff0e069b9275f58929596ceb00d14d90e3e16cd6"
   }
  }
 },
 "nbformat": 4,
 "nbformat_minor": 2
}
